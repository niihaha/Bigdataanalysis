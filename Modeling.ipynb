{
 "cells": [
  {
   "cell_type": "markdown",
   "id": "05d22fe2",
   "metadata": {},
   "source": [
    "### Importing libraries"
   ]
  },
  {
   "cell_type": "code",
   "execution_count": 1,
   "id": "484df552",
   "metadata": {},
   "outputs": [],
   "source": [
    "import pyspark\n",
    "from pyspark import SparkContext,SparkConf\n",
    "from pyspark.sql import SparkSession\n",
    "import pandas as pd"
   ]
  },
  {
   "cell_type": "markdown",
   "id": "63ef8887",
   "metadata": {},
   "source": [
    "### Loading Data"
   ]
  },
  {
   "cell_type": "code",
   "execution_count": 2,
   "id": "7cd274f2",
   "metadata": {},
   "outputs": [],
   "source": [
    "my_spark = SparkSession \\\n",
    "    .builder \\\n",
    "    .appName(\"603Project\") \\\n",
    "    .config(\"spark.mongodb.input.uri\", \"mongodb://127.0.0.1/603Project.603Project\") \\\n",
    "    .config(\"spark.mongodb.output.uri\", \"mongodb://127.0.0.1/603Project.603Project\") \\\n",
    "    .config(\"spark.jars.packages\", \"org.mongodb.spark:mongo-spark-connector_2.12:3.0.1\") \\\n",
    "    .getOrCreate()"
   ]
  },
  {
   "cell_type": "code",
   "execution_count": 3,
   "id": "c4f3ac93",
   "metadata": {},
   "outputs": [
    {
     "data": {
      "text/html": [
       "\n",
       "            <div>\n",
       "                <p><b>SparkSession - in-memory</b></p>\n",
       "                \n",
       "        <div>\n",
       "            <p><b>SparkContext</b></p>\n",
       "\n",
       "            <p><a href=\"http://10.0.0.13:4040\">Spark UI</a></p>\n",
       "\n",
       "            <dl>\n",
       "              <dt>Version</dt>\n",
       "                <dd><code>v3.1.2</code></dd>\n",
       "              <dt>Master</dt>\n",
       "                <dd><code>local[*]</code></dd>\n",
       "              <dt>AppName</dt>\n",
       "                <dd><code>603Project</code></dd>\n",
       "            </dl>\n",
       "        </div>\n",
       "        \n",
       "            </div>\n",
       "        "
      ],
      "text/plain": [
       "<pyspark.sql.session.SparkSession at 0x1b944646d30>"
      ]
     },
     "execution_count": 3,
     "metadata": {},
     "output_type": "execute_result"
    }
   ],
   "source": [
    "SparkSession.builder.getOrCreate()"
   ]
  },
  {
   "cell_type": "code",
   "execution_count": 4,
   "id": "9bedbac1",
   "metadata": {},
   "outputs": [],
   "source": [
    "data = my_spark.read.format(\"com.mongodb.spark.sql.DefaultSource\").load()"
   ]
  },
  {
   "cell_type": "code",
   "execution_count": 5,
   "id": "c040c96a",
   "metadata": {},
   "outputs": [
    {
     "name": "stdout",
     "output_type": "stream",
     "text": [
      "root\n",
      " |-- _id: struct (nullable = true)\n",
      " |    |-- oid: string (nullable = true)\n",
      " |-- body_type: string (nullable = true)\n",
      " |-- city: string (nullable = true)\n",
      " |-- daysonmarket: integer (nullable = true)\n",
      " |-- engine_displacement: integer (nullable = true)\n",
      " |-- engine_type: string (nullable = true)\n",
      " |-- exterior_color: string (nullable = true)\n",
      " |-- franchise_make: string (nullable = true)\n",
      " |-- front_legroom: double (nullable = true)\n",
      " |-- fuel_tank_volume: double (nullable = true)\n",
      " |-- height: double (nullable = true)\n",
      " |-- horsepower: integer (nullable = true)\n",
      " |-- length: double (nullable = true)\n",
      " |-- listing_color: string (nullable = true)\n",
      " |-- make_name: string (nullable = true)\n",
      " |-- maximum_seating: string (nullable = true)\n",
      " |-- mileage: integer (nullable = true)\n",
      " |-- price: integer (nullable = true)\n",
      " |-- seller_rating: double (nullable = true)\n",
      " |-- torque: integer (nullable = true)\n",
      " |-- transmission_display: string (nullable = true)\n",
      " |-- wheel_system_display: string (nullable = true)\n",
      " |-- width: double (nullable = true)\n",
      "\n"
     ]
    }
   ],
   "source": [
    "data.printSchema()"
   ]
  },
  {
   "cell_type": "code",
   "execution_count": 6,
   "id": "83bda55e",
   "metadata": {},
   "outputs": [
    {
     "name": "stdout",
     "output_type": "stream",
     "text": [
      "(69736, 23)\n"
     ]
    }
   ],
   "source": [
    "print((data.count(), len(data.columns)))"
   ]
  },
  {
   "cell_type": "markdown",
   "id": "db4b9f58",
   "metadata": {},
   "source": [
    "### Data Preprocessing"
   ]
  },
  {
   "cell_type": "code",
   "execution_count": 7,
   "id": "393e036e",
   "metadata": {},
   "outputs": [],
   "source": [
    "from pyspark.ml.feature import StringIndexer,StandardScaler, OneHotEncoder\n",
    "si1 = StringIndexer(inputCol='body_type',outputCol='body_type_si')\n",
    "si2 = StringIndexer(inputCol='city',outputCol='city_si')\n",
    "si3 = StringIndexer(inputCol='engine_type',outputCol='engine_type_si')\n",
    "si4 = StringIndexer(inputCol='exterior_color',outputCol='exterior_color_si')\n",
    "si5 = StringIndexer(inputCol='franchise_make',outputCol='franchise_make_si')\n",
    "si6 = StringIndexer(inputCol='make_name',outputCol='make_name_si')\n",
    "si7 = StringIndexer(inputCol='transmission_display',outputCol='transmission_display_si')\n",
    "si8 = StringIndexer(inputCol='wheel_system_display',outputCol='wheel_system_display_si')\n",
    "si9 = StringIndexer(inputCol='maximum_seating',outputCol='maximum_seating_si')\n",
    "\n",
    "ohe1 = OneHotEncoder(inputCol='body_type_si',outputCol='body_type_ohe')\n",
    "ohe2 = OneHotEncoder(inputCol='city_si',outputCol='city_ohe')\n",
    "ohe3 = OneHotEncoder(inputCol='engine_type_si',outputCol='engine_type_ohe')\n",
    "ohe4 = OneHotEncoder(inputCol='exterior_color_si',outputCol='exterior_color_ohe')\n",
    "ohe5 = OneHotEncoder(inputCol='franchise_make_si',outputCol='franchise_make_ohe')\n",
    "ohe6 = OneHotEncoder(inputCol='make_name_si',outputCol='make_name_ohe')\n",
    "ohe7 = OneHotEncoder(inputCol='transmission_display_si',outputCol='transmission_display_ohe')\n",
    "ohe8 = OneHotEncoder(inputCol='wheel_system_display_si',outputCol='wheel_system_display_ohe')\n",
    "ohe9 = OneHotEncoder(inputCol='maximum_seating_si',outputCol='maximum_seating_ohe')\n",
    "\n"
   ]
  },
  {
   "cell_type": "code",
   "execution_count": 24,
   "id": "c44af072",
   "metadata": {},
   "outputs": [],
   "source": [
    "from pyspark.ml.feature import VectorAssembler\n",
    "va = VectorAssembler(inputCols=['daysonmarket','engine_displacement','front_legroom','fuel_tank_volume','horsepower','mileage',\n",
    "                               'seller_rating','torque','width'], outputCol='unscaled_features')\n",
    "\n",
    "sc = StandardScaler(inputCol=\"unscaled_features\", outputCol=\"num_features\")\n",
    "\n",
    "va2 = VectorAssembler(inputCols=['body_type_ohe','city_ohe','engine_type_ohe','exterior_color_ohe','franchise_make_ohe',\n",
    "                               'make_name_ohe','transmission_display_ohe','wheel_system_display_ohe','maximum_seating_ohe'], outputCol='cat_features')\n",
    "\n",
    "va_features = VectorAssembler(inputCols=['num_features','cat_features'],\n",
    "  outputCol='final_features')"
   ]
  },
  {
   "cell_type": "markdown",
   "id": "56e815cd",
   "metadata": {},
   "source": [
    "### Building Pipeline"
   ]
  },
  {
   "cell_type": "code",
   "execution_count": 25,
   "id": "bff2d481",
   "metadata": {},
   "outputs": [],
   "source": [
    "from pyspark.ml import Pipeline\n",
    "pipe = Pipeline(stages=[si1,si2,si3,si4,si5,si6,si7,si8,si9,ohe1,ohe2,ohe3,ohe4,ohe5,ohe6,ohe7,ohe8,ohe9,va2,va,sc,va_features])\n",
    "model = pipe.fit(data)\n",
    "transformed_data= model.transform(data)"
   ]
  },
  {
   "cell_type": "code",
   "execution_count": 26,
   "id": "a45ce528",
   "metadata": {},
   "outputs": [
    {
     "name": "stdout",
     "output_type": "stream",
     "text": [
      "root\n",
      " |-- _id: struct (nullable = true)\n",
      " |    |-- oid: string (nullable = true)\n",
      " |-- body_type: string (nullable = true)\n",
      " |-- city: string (nullable = true)\n",
      " |-- daysonmarket: integer (nullable = true)\n",
      " |-- engine_displacement: integer (nullable = true)\n",
      " |-- engine_type: string (nullable = true)\n",
      " |-- exterior_color: string (nullable = true)\n",
      " |-- franchise_make: string (nullable = true)\n",
      " |-- front_legroom: double (nullable = true)\n",
      " |-- fuel_tank_volume: double (nullable = true)\n",
      " |-- height: double (nullable = true)\n",
      " |-- horsepower: integer (nullable = true)\n",
      " |-- length: double (nullable = true)\n",
      " |-- listing_color: string (nullable = true)\n",
      " |-- make_name: string (nullable = true)\n",
      " |-- maximum_seating: string (nullable = true)\n",
      " |-- mileage: integer (nullable = true)\n",
      " |-- price: integer (nullable = true)\n",
      " |-- seller_rating: double (nullable = true)\n",
      " |-- torque: integer (nullable = true)\n",
      " |-- transmission_display: string (nullable = true)\n",
      " |-- wheel_system_display: string (nullable = true)\n",
      " |-- width: double (nullable = true)\n",
      " |-- body_type_si: double (nullable = false)\n",
      " |-- city_si: double (nullable = false)\n",
      " |-- engine_type_si: double (nullable = false)\n",
      " |-- exterior_color_si: double (nullable = false)\n",
      " |-- franchise_make_si: double (nullable = false)\n",
      " |-- make_name_si: double (nullable = false)\n",
      " |-- transmission_display_si: double (nullable = false)\n",
      " |-- wheel_system_display_si: double (nullable = false)\n",
      " |-- maximum_seating_si: double (nullable = false)\n",
      " |-- body_type_ohe: vector (nullable = true)\n",
      " |-- city_ohe: vector (nullable = true)\n",
      " |-- engine_type_ohe: vector (nullable = true)\n",
      " |-- exterior_color_ohe: vector (nullable = true)\n",
      " |-- franchise_make_ohe: vector (nullable = true)\n",
      " |-- make_name_ohe: vector (nullable = true)\n",
      " |-- transmission_display_ohe: vector (nullable = true)\n",
      " |-- wheel_system_display_ohe: vector (nullable = true)\n",
      " |-- maximum_seating_ohe: vector (nullable = true)\n",
      " |-- cat_features: vector (nullable = true)\n",
      " |-- unscaled_features: vector (nullable = true)\n",
      " |-- num_features: vector (nullable = true)\n",
      " |-- final_features: vector (nullable = true)\n",
      "\n"
     ]
    }
   ],
   "source": [
    "transformed_data.printSchema()"
   ]
  },
  {
   "cell_type": "code",
   "execution_count": 27,
   "id": "4facc64e",
   "metadata": {},
   "outputs": [],
   "source": [
    "#spliting the data for training and testing\n",
    "splits = transformed_data.randomSplit([0.8, 0.2])\n",
    "train_df = splits[0]\n",
    "test_df = splits[1]"
   ]
  },
  {
   "cell_type": "markdown",
   "id": "71ec3da0",
   "metadata": {},
   "source": [
    "### Modelling"
   ]
  },
  {
   "cell_type": "markdown",
   "id": "ee81eb2d",
   "metadata": {},
   "source": [
    "#### LinearRegression"
   ]
  },
  {
   "cell_type": "code",
   "execution_count": 31,
   "id": "bbfc1ccb",
   "metadata": {},
   "outputs": [],
   "source": [
    "from pyspark.ml.regression import LinearRegression\n",
    "lr = LinearRegression(featuresCol = 'final_features', labelCol='price', maxIter=10, regParam=0.3, elasticNetParam=0.8)\n",
    "lr_model = lr.fit(train_df)"
   ]
  },
  {
   "cell_type": "code",
   "execution_count": 32,
   "id": "dec720f8",
   "metadata": {},
   "outputs": [
    {
     "name": "stdout",
     "output_type": "stream",
     "text": [
      "+------------------+-----+\n",
      "|        prediction|price|\n",
      "+------------------+-----+\n",
      "|31478.177669868768|35075|\n",
      "| 44228.47360741431|53645|\n",
      "|24291.437412614057|22072|\n",
      "|23343.430107790347|26548|\n",
      "|24613.446830614328|23414|\n",
      "+------------------+-----+\n",
      "only showing top 5 rows\n",
      "\n"
     ]
    }
   ],
   "source": [
    "lr_predictions = lr_model.transform(test_df)\n",
    "lr_predictions.select(\"prediction\",\"price\").show(5)"
   ]
  },
  {
   "cell_type": "code",
   "execution_count": 33,
   "id": "5560aa04",
   "metadata": {},
   "outputs": [
    {
     "name": "stdout",
     "output_type": "stream",
     "text": [
      "RMSE: 3896.910280\n",
      "r2: 0.857426\n"
     ]
    }
   ],
   "source": [
    "trainingSummary = lr_model.summary\n",
    "print(\"RMSE: %f\" % trainingSummary.rootMeanSquaredError)\n",
    "print(\"r2: %f\" % trainingSummary.r2)"
   ]
  },
  {
   "cell_type": "markdown",
   "id": "e849b055",
   "metadata": {},
   "source": [
    "#### DecisionTreeRegressor"
   ]
  },
  {
   "cell_type": "code",
   "execution_count": 34,
   "id": "96446f2b",
   "metadata": {},
   "outputs": [],
   "source": [
    "from pyspark.ml.regression import DecisionTreeRegressor\n",
    "dt = DecisionTreeRegressor(featuresCol = 'final_features', labelCol='price')\n",
    "dt_model = dt.fit(train_df)"
   ]
  },
  {
   "cell_type": "code",
   "execution_count": 35,
   "id": "4f8b4df5",
   "metadata": {},
   "outputs": [
    {
     "name": "stdout",
     "output_type": "stream",
     "text": [
      "+------------------+-----+\n",
      "|        prediction|price|\n",
      "+------------------+-----+\n",
      "|35783.018101761256|35075|\n",
      "| 47076.66278493558|53645|\n",
      "|21990.663392857143|22072|\n",
      "|27797.510836363635|26548|\n",
      "| 24867.91388888889|23414|\n",
      "+------------------+-----+\n",
      "only showing top 5 rows\n",
      "\n"
     ]
    }
   ],
   "source": [
    "dt_predictions = dt_model.transform(test_df)\n",
    "dt_predictions.select(\"prediction\",\"price\").show(5)"
   ]
  },
  {
   "cell_type": "code",
   "execution_count": 36,
   "id": "abf0cb45",
   "metadata": {
    "scrolled": false
   },
   "outputs": [
    {
     "name": "stdout",
     "output_type": "stream",
     "text": [
      "Root Mean Squared Error (RMSE) on test data = 3939.51\n"
     ]
    }
   ],
   "source": [
    "from pyspark.ml.evaluation import RegressionEvaluator\n",
    "evaluator = RegressionEvaluator(\n",
    "    labelCol=\"price\", predictionCol=\"prediction\", metricName=\"rmse\")\n",
    "rmse = evaluator.evaluate(dt_predictions)\n",
    "print(\"Root Mean Squared Error (RMSE) on test data = %g\" % rmse)\n"
   ]
  },
  {
   "cell_type": "code",
   "execution_count": 38,
   "id": "34758cb6",
   "metadata": {},
   "outputs": [
    {
     "name": "stdout",
     "output_type": "stream",
     "text": [
      "r2_score: 0.8537751584336537\n"
     ]
    }
   ],
   "source": [
    "y_true = dt_predictions.select(\"price\").toPandas()\n",
    "y_pred = dt_predictions.select(\"prediction\").toPandas()\n",
    "\n",
    "import sklearn.metrics\n",
    "r2_score = sklearn.metrics.r2_score(y_true, y_pred)\n",
    "print('r2_score: {0}'.format(r2_score))"
   ]
  },
  {
   "cell_type": "markdown",
   "id": "490640de",
   "metadata": {},
   "source": [
    "#### RandomForestRegressor"
   ]
  },
  {
   "cell_type": "code",
   "execution_count": 39,
   "id": "882323a3",
   "metadata": {},
   "outputs": [],
   "source": [
    "from pyspark.ml.regression import RandomForestRegressor\n",
    "rf = RandomForestRegressor(featuresCol=\"final_features\", labelCol='price')\n",
    "rf_model = rf.fit(train_df)"
   ]
  },
  {
   "cell_type": "code",
   "execution_count": 40,
   "id": "bd0205e8",
   "metadata": {},
   "outputs": [
    {
     "name": "stdout",
     "output_type": "stream",
     "text": [
      "+------------------+-----+\n",
      "|        prediction|price|\n",
      "+------------------+-----+\n",
      "| 37717.96245297829|35075|\n",
      "|  46823.6371795753|53645|\n",
      "| 22280.20359377212|22072|\n",
      "|  27563.3884496365|26548|\n",
      "|24340.237769708292|23414|\n",
      "+------------------+-----+\n",
      "only showing top 5 rows\n",
      "\n"
     ]
    }
   ],
   "source": [
    "rf_predictions = rf_model.transform(test_df)\n",
    "rf_predictions.select(\"prediction\",\"price\").show(5)"
   ]
  },
  {
   "cell_type": "code",
   "execution_count": 41,
   "id": "d9f2935c",
   "metadata": {},
   "outputs": [
    {
     "name": "stdout",
     "output_type": "stream",
     "text": [
      "Root Mean Squared Error (RMSE) on test data = 3852.86\n"
     ]
    }
   ],
   "source": [
    "evaluator = RegressionEvaluator(\n",
    "    labelCol=\"price\", predictionCol=\"prediction\", metricName=\"rmse\")\n",
    "rmse = evaluator.evaluate(rf_predictions)\n",
    "print(\"Root Mean Squared Error (RMSE) on test data = %g\" % rmse)"
   ]
  },
  {
   "cell_type": "code",
   "execution_count": 42,
   "id": "c67f7206",
   "metadata": {},
   "outputs": [
    {
     "name": "stdout",
     "output_type": "stream",
     "text": [
      "r2_score: 0.8601368476264593\n"
     ]
    }
   ],
   "source": [
    "y_true = rf_predictions.select(\"price\").toPandas()\n",
    "y_pred = rf_predictions.select(\"prediction\").toPandas()\n",
    "\n",
    "import sklearn.metrics\n",
    "r2_score = sklearn.metrics.r2_score(y_true, y_pred)\n",
    "print('r2_score: {0}'.format(r2_score))"
   ]
  },
  {
   "cell_type": "code",
   "execution_count": null,
   "id": "3a66f437",
   "metadata": {},
   "outputs": [],
   "source": []
  }
 ],
 "metadata": {
  "kernelspec": {
   "display_name": "Python 3 (ipykernel)",
   "language": "python",
   "name": "python3"
  },
  "language_info": {
   "codemirror_mode": {
    "name": "ipython",
    "version": 3
   },
   "file_extension": ".py",
   "mimetype": "text/x-python",
   "name": "python",
   "nbconvert_exporter": "python",
   "pygments_lexer": "ipython3",
   "version": "3.9.7"
  }
 },
 "nbformat": 4,
 "nbformat_minor": 5
}
